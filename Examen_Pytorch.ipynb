{
  "nbformat": 4,
  "nbformat_minor": 0,
  "metadata": {
    "colab": {
      "provenance": [],
      "gpuType": "T4",
      "authorship_tag": "ABX9TyPSnFcDTLK1XLmjpJnbHrmJ",
      "include_colab_link": true
    },
    "kernelspec": {
      "name": "python3",
      "display_name": "Python 3"
    },
    "language_info": {
      "name": "python"
    },
    "accelerator": "GPU"
  },
  "cells": [
    {
      "cell_type": "markdown",
      "metadata": {
        "id": "view-in-github",
        "colab_type": "text"
      },
      "source": [
        "<a href=\"https://colab.research.google.com/github/JoseDavidFull/Codigo/blob/main/Examen_Pytorch.ipynb\" target=\"_parent\"><img src=\"https://colab.research.google.com/assets/colab-badge.svg\" alt=\"Open In Colab\"/></a>"
      ]
    },
    {
      "cell_type": "code",
      "source": [
        "'''Crea un tensor de tamaño (4, 5, 3) con valores aleatorios flotantes utilizando torch.randn.\n",
        "Accede al elemento en la posición (2, 3, 1) del tensor.\n",
        "Muestra las dimensiones del tensor y su tipo de dato.\n",
        "Operaciones con GPU y CPU:'''\n",
        "#primer ejercio de torch\n",
        "import torch\n",
        "\n",
        "device = torch.device('cuda' if torch.cuda.is_available else 'cpu')\n",
        "\n",
        "tensor = torch.randn(4,5,3)\n",
        "tensor[2,3,1]\n",
        "\n",
        "print(\"Con gpu\")\n",
        "tensor = tensor.to(device)\n",
        "print(tensor)\n",
        "\n",
        "print(\"Con cpu\")\n",
        "cpu = tensor.cpu()\n",
        "print(cpu)"
      ],
      "metadata": {
        "colab": {
          "base_uri": "https://localhost:8080/"
        },
        "id": "hPG-uAFbduiV",
        "outputId": "6122ef56-5b61-4b2f-8488-7cc09591a9b8"
      },
      "execution_count": 4,
      "outputs": [
        {
          "output_type": "stream",
          "name": "stdout",
          "text": [
            "Con gpu\n",
            "tensor([[[-0.9222,  1.4455, -0.7941],\n",
            "         [-2.2287,  0.0432,  1.6626],\n",
            "         [ 0.4521,  0.0978,  0.5842],\n",
            "         [ 1.3370,  0.5062, -0.9606],\n",
            "         [ 0.2608,  3.3711, -0.7416]],\n",
            "\n",
            "        [[ 1.0628,  1.9544, -1.1928],\n",
            "         [-0.8577, -0.9217,  1.3312],\n",
            "         [ 2.8365,  1.4417,  0.5688],\n",
            "         [ 0.1202, -0.2333,  0.7973],\n",
            "         [-0.4009, -0.3423, -1.6063]],\n",
            "\n",
            "        [[-0.5882,  0.0709,  1.6954],\n",
            "         [ 0.5670,  3.0001, -0.7609],\n",
            "         [-0.3627,  0.9576,  1.0292],\n",
            "         [ 0.7931,  1.1938, -1.5944],\n",
            "         [-0.5601,  0.5062, -1.3115]],\n",
            "\n",
            "        [[ 0.6649, -0.9265, -2.6494],\n",
            "         [ 0.0240,  0.0763,  0.8549],\n",
            "         [-0.6865,  0.4509, -0.7581],\n",
            "         [ 0.5229, -0.2473,  2.3231],\n",
            "         [ 1.1133, -0.0857, -0.3289]]], device='cuda:0')\n",
            "Con cpu\n",
            "tensor([[[-0.9222,  1.4455, -0.7941],\n",
            "         [-2.2287,  0.0432,  1.6626],\n",
            "         [ 0.4521,  0.0978,  0.5842],\n",
            "         [ 1.3370,  0.5062, -0.9606],\n",
            "         [ 0.2608,  3.3711, -0.7416]],\n",
            "\n",
            "        [[ 1.0628,  1.9544, -1.1928],\n",
            "         [-0.8577, -0.9217,  1.3312],\n",
            "         [ 2.8365,  1.4417,  0.5688],\n",
            "         [ 0.1202, -0.2333,  0.7973],\n",
            "         [-0.4009, -0.3423, -1.6063]],\n",
            "\n",
            "        [[-0.5882,  0.0709,  1.6954],\n",
            "         [ 0.5670,  3.0001, -0.7609],\n",
            "         [-0.3627,  0.9576,  1.0292],\n",
            "         [ 0.7931,  1.1938, -1.5944],\n",
            "         [-0.5601,  0.5062, -1.3115]],\n",
            "\n",
            "        [[ 0.6649, -0.9265, -2.6494],\n",
            "         [ 0.0240,  0.0763,  0.8549],\n",
            "         [-0.6865,  0.4509, -0.7581],\n",
            "         [ 0.5229, -0.2473,  2.3231],\n",
            "         [ 1.1133, -0.0857, -0.3289]]])\n"
          ]
        }
      ]
    },
    {
      "cell_type": "code",
      "source": [
        "'''\n",
        "Operaciones con GPU y CPU:\n",
        "Crea un tensor de unos con dimensiones (3, 3) utilizando torch.ones.\n",
        "Verifica si la GPU está disponible y, si es así, mueve el tensor a la GPU utilizando to(device).\n",
        "Realiza alguna operación (por ejemplo, multiplicación por escalar) en el tensor y muestra el resultado.\n",
        "Lleva el tensor de vuelta a la CPU utilizando cpu().'''\n",
        "#ejercicios Num2\n",
        "import torch #importamos la librera de torch\n",
        "\n",
        "device = torch.device('cuda' if torch.cuda.is_available else 'cpu')\n",
        "\n",
        "tensor = torch.ones(3,3) # creacion de tensor de unos de 3x3\n",
        "torch.cuda.is_available() # verificar si la gpu esta disponible\n",
        "\n",
        "tensor = tensor.to(device) # mover de cpu a gpu\n",
        "mul = 1\n",
        "for n in tensor:\n",
        "  mul*=n\n",
        "\n",
        "print(\"La Multiplicacion es: \",mul)"
      ],
      "metadata": {
        "colab": {
          "base_uri": "https://localhost:8080/"
        },
        "id": "_-_G78VUerDE",
        "outputId": "784247a5-f705-4324-89a2-04eaff9e06ab"
      },
      "execution_count": 10,
      "outputs": [
        {
          "output_type": "stream",
          "name": "stdout",
          "text": [
            "La Multiplicacion es:  tensor([1., 1., 1.], device='cuda:0')\n"
          ]
        }
      ]
    },
    {
      "cell_type": "code",
      "source": [
        "'''\n",
        "Generación de Números Enteros y Suma de Matrices:\n",
        "Genera un tensor de números enteros aleatorios en el rango de 0 a 5\n",
        "(inclusive) con dimensiones (2, 3) utilizando torch.randint.\n",
        "Crea dos matrices aleatorias con dimensiones (3, 4) y (4, 2) utilizando torch.randn.\n",
        "Realiza una multiplicación de matrices entre las dos matrices creadas utilizando mm.\n",
        "'''\n",
        "#ejercicio Num3\n",
        "import torch # importamo torch\n",
        "\n",
        "tensor = torch.randint(0,6,(2,3))\n",
        "print(tensor)\n",
        "\n",
        "tensor1 = torch.randn(3,4)\n",
        "tensor2 = torch.randn(4,2)\n",
        "\n",
        "mul = torch.mm(tensor1,tensor2)\n",
        "print(mul)"
      ],
      "metadata": {
        "colab": {
          "base_uri": "https://localhost:8080/"
        },
        "id": "lzpO56rGgJtA",
        "outputId": "16cbb7ac-f8f0-403b-c845-08fcb43c7ba5"
      },
      "execution_count": 15,
      "outputs": [
        {
          "output_type": "stream",
          "name": "stdout",
          "text": [
            "tensor([[4, 2, 5],\n",
            "        [4, 4, 4]])\n",
            "tensor([[-1.6759,  5.0164],\n",
            "        [-0.7444, -1.0002],\n",
            "        [-0.1855, -1.7979]])\n"
          ]
        }
      ]
    },
    {
      "cell_type": "code",
      "source": [
        "'''\n",
        "Manipulación Eficiente de Dispositivos:\n",
        "Crea un tensor de tamaño (5, 6, 7) con valores aleatorios.\n",
        "Verifica si la GPU está disponible y, si es así, mueve el tensor a la GPU.\n",
        "Realiza alguna operación en el tensor y mide el tiempo de ejecución.\n",
        "Lleva el tensor de vuelta a la CPU .\n",
        "'''\n",
        "#Ejercicios Num4\n",
        "import torch # importar torch\n",
        "\n",
        "device = torch.device('cuda' if torch.cuda.is_available else 'cpu') #uso de la gpu y la cpu\n",
        "\n",
        "tensor = torch.randn(5,6,7) # creacion de el tensor tamaño 5,6,7\n",
        "\n",
        "torch.cuda.is_available() # true significa que si esta disponible\n",
        "\n",
        "Gpu = tensor.to(device) # llevando a la gpu\n",
        "\n",
        "Cpu = tensor.cpu()\n",
        "\n",
        "print(\"Llevado a la GPU\")\n",
        "print(Gpu)\n",
        "\n",
        "print(\"LLevado a la cpu\")\n",
        "print(Cpu)"
      ],
      "metadata": {
        "colab": {
          "base_uri": "https://localhost:8080/"
        },
        "id": "BXCAuJ5OhdEi",
        "outputId": "a6975047-9020-486a-813a-dba9ebc734a2"
      },
      "execution_count": 21,
      "outputs": [
        {
          "output_type": "stream",
          "name": "stdout",
          "text": [
            "Llevado a la GPU\n",
            "tensor([[[-6.6629e-02,  1.1965e+00,  9.8827e-01, -2.3377e-01, -2.1139e+00,\n",
            "           1.0737e+00,  1.2208e+00],\n",
            "         [-3.6347e-01,  5.8236e-01,  3.6409e-01, -1.2571e+00,  8.6748e-01,\n",
            "          -1.1737e+00,  5.5726e-01],\n",
            "         [ 2.5233e+00,  1.8456e-01,  1.7218e-01,  1.5732e+00,  4.3519e-01,\n",
            "          -9.1663e-01,  6.4943e-01],\n",
            "         [ 4.7620e-01, -5.2412e-01,  1.9362e+00,  4.9971e-01,  1.1573e-01,\n",
            "           5.2431e-01, -1.0123e-01],\n",
            "         [ 6.0340e-01,  5.2751e-02,  9.7159e-01,  1.9722e-01,  5.5749e-02,\n",
            "          -2.7518e+00, -8.4692e-01],\n",
            "         [-6.0014e-01,  1.6215e+00,  1.7061e-01,  1.4960e-01, -2.6733e-01,\n",
            "           1.5624e-01,  1.1206e+00]],\n",
            "\n",
            "        [[ 7.1596e-01, -2.7843e-01, -9.6694e-01, -2.3183e-01, -1.3681e+00,\n",
            "           5.1788e-01, -4.4680e-01],\n",
            "         [ 7.6510e-01,  7.9000e-01, -4.3067e-01,  9.6590e-01,  1.7670e-02,\n",
            "           4.5533e-01, -1.0592e+00],\n",
            "         [-4.2866e-01, -2.7030e-01, -7.7307e-01,  6.5814e-01, -7.8626e-02,\n",
            "           5.5039e-01,  3.1179e-01],\n",
            "         [ 2.7142e-01, -1.3615e-01, -2.7120e-03, -4.0311e-01, -1.6863e+00,\n",
            "          -4.1152e-02,  1.3983e+00],\n",
            "         [-9.7851e-01, -3.2307e-01, -1.1781e+00, -9.4603e-01, -1.5079e+00,\n",
            "          -8.9474e-01, -1.3571e+00],\n",
            "         [-1.1206e+00,  2.1848e-01,  4.0689e-01, -3.1687e-01,  1.1823e+00,\n",
            "           2.3062e+00,  1.0349e+00]],\n",
            "\n",
            "        [[ 1.0678e+00, -2.1976e-01,  1.7739e+00,  8.6671e-01, -1.4561e-01,\n",
            "           2.0033e+00,  5.1961e-01],\n",
            "         [-3.2695e-02, -7.6239e-01,  2.7949e+00, -8.1792e-01,  8.8794e-01,\n",
            "          -4.9276e-01,  6.9256e-01],\n",
            "         [ 1.0192e+00,  4.8125e-01,  1.0816e+00,  9.1882e-01, -1.6229e+00,\n",
            "          -2.7874e+00, -3.9798e+00],\n",
            "         [-1.0995e+00, -6.0483e-01, -5.8405e-01, -5.8243e-01, -1.1069e+00,\n",
            "          -2.7197e-01,  8.1366e-01],\n",
            "         [-1.5137e+00, -2.0071e+00, -3.3177e-01,  1.9504e-01,  1.0164e-01,\n",
            "           2.0699e-01, -4.1117e-01],\n",
            "         [ 8.2883e-01, -1.9269e+00,  2.7591e-01,  2.5797e-01,  4.4900e-01,\n",
            "           2.2645e+00,  9.6826e-01]],\n",
            "\n",
            "        [[-1.5612e-02,  9.7884e-01, -5.2749e-02, -1.6296e+00,  1.3771e+00,\n",
            "          -1.3567e+00, -3.0893e-01],\n",
            "         [ 6.7560e-01,  1.0548e+00,  1.1345e-01, -5.8121e-01,  6.4423e-01,\n",
            "           2.6335e+00,  1.5901e-01],\n",
            "         [ 3.4584e-01,  1.2991e-01,  1.1172e+00,  7.2936e-01, -1.2600e+00,\n",
            "           1.0088e+00, -3.0059e-01],\n",
            "         [-5.9746e-01, -7.0975e-01, -7.7190e-01, -3.4969e-01, -1.9482e+00,\n",
            "          -8.4957e-01, -7.6728e-01],\n",
            "         [ 1.4096e+00, -4.2687e-01, -2.2348e-01,  7.8227e-01,  1.4796e-01,\n",
            "           1.2096e+00,  5.1147e-01],\n",
            "         [-3.1375e-01, -3.0796e+00,  5.7211e-01, -8.0641e-01, -8.7502e-01,\n",
            "          -4.1641e-01,  2.9181e+00]],\n",
            "\n",
            "        [[ 1.8393e+00,  3.3689e-01,  1.8546e+00, -1.3330e+00, -4.8440e-03,\n",
            "           1.3374e+00,  3.0335e-01],\n",
            "         [ 1.5957e+00,  6.9081e-01,  9.3666e-01, -1.0504e+00, -3.0475e-01,\n",
            "          -1.1349e+00, -6.7325e-01],\n",
            "         [-4.0736e-01,  1.4734e+00, -7.2463e-01, -4.6604e-01,  1.0196e-01,\n",
            "           6.1994e-01, -4.4196e-01],\n",
            "         [-1.8774e+00, -1.3025e-03,  7.5971e-01,  3.2382e-01, -6.0472e-01,\n",
            "           3.6398e-01, -5.6143e-01],\n",
            "         [ 3.8271e-01,  2.3044e+00,  9.3370e-01, -1.0057e+00, -4.6539e-01,\n",
            "          -4.1052e-01, -1.2292e+00],\n",
            "         [ 9.3991e-01, -9.9824e-02,  4.9459e-01,  6.8532e-01, -1.2707e+00,\n",
            "          -2.2550e+00, -1.5819e+00]]], device='cuda:0')\n",
            "LLevado a la cpu\n",
            "tensor([[[-6.6629e-02,  1.1965e+00,  9.8827e-01, -2.3377e-01, -2.1139e+00,\n",
            "           1.0737e+00,  1.2208e+00],\n",
            "         [-3.6347e-01,  5.8236e-01,  3.6409e-01, -1.2571e+00,  8.6748e-01,\n",
            "          -1.1737e+00,  5.5726e-01],\n",
            "         [ 2.5233e+00,  1.8456e-01,  1.7218e-01,  1.5732e+00,  4.3519e-01,\n",
            "          -9.1663e-01,  6.4943e-01],\n",
            "         [ 4.7620e-01, -5.2412e-01,  1.9362e+00,  4.9971e-01,  1.1573e-01,\n",
            "           5.2431e-01, -1.0123e-01],\n",
            "         [ 6.0340e-01,  5.2751e-02,  9.7159e-01,  1.9722e-01,  5.5749e-02,\n",
            "          -2.7518e+00, -8.4692e-01],\n",
            "         [-6.0014e-01,  1.6215e+00,  1.7061e-01,  1.4960e-01, -2.6733e-01,\n",
            "           1.5624e-01,  1.1206e+00]],\n",
            "\n",
            "        [[ 7.1596e-01, -2.7843e-01, -9.6694e-01, -2.3183e-01, -1.3681e+00,\n",
            "           5.1788e-01, -4.4680e-01],\n",
            "         [ 7.6510e-01,  7.9000e-01, -4.3067e-01,  9.6590e-01,  1.7670e-02,\n",
            "           4.5533e-01, -1.0592e+00],\n",
            "         [-4.2866e-01, -2.7030e-01, -7.7307e-01,  6.5814e-01, -7.8626e-02,\n",
            "           5.5039e-01,  3.1179e-01],\n",
            "         [ 2.7142e-01, -1.3615e-01, -2.7120e-03, -4.0311e-01, -1.6863e+00,\n",
            "          -4.1152e-02,  1.3983e+00],\n",
            "         [-9.7851e-01, -3.2307e-01, -1.1781e+00, -9.4603e-01, -1.5079e+00,\n",
            "          -8.9474e-01, -1.3571e+00],\n",
            "         [-1.1206e+00,  2.1848e-01,  4.0689e-01, -3.1687e-01,  1.1823e+00,\n",
            "           2.3062e+00,  1.0349e+00]],\n",
            "\n",
            "        [[ 1.0678e+00, -2.1976e-01,  1.7739e+00,  8.6671e-01, -1.4561e-01,\n",
            "           2.0033e+00,  5.1961e-01],\n",
            "         [-3.2695e-02, -7.6239e-01,  2.7949e+00, -8.1792e-01,  8.8794e-01,\n",
            "          -4.9276e-01,  6.9256e-01],\n",
            "         [ 1.0192e+00,  4.8125e-01,  1.0816e+00,  9.1882e-01, -1.6229e+00,\n",
            "          -2.7874e+00, -3.9798e+00],\n",
            "         [-1.0995e+00, -6.0483e-01, -5.8405e-01, -5.8243e-01, -1.1069e+00,\n",
            "          -2.7197e-01,  8.1366e-01],\n",
            "         [-1.5137e+00, -2.0071e+00, -3.3177e-01,  1.9504e-01,  1.0164e-01,\n",
            "           2.0699e-01, -4.1117e-01],\n",
            "         [ 8.2883e-01, -1.9269e+00,  2.7591e-01,  2.5797e-01,  4.4900e-01,\n",
            "           2.2645e+00,  9.6826e-01]],\n",
            "\n",
            "        [[-1.5612e-02,  9.7884e-01, -5.2749e-02, -1.6296e+00,  1.3771e+00,\n",
            "          -1.3567e+00, -3.0893e-01],\n",
            "         [ 6.7560e-01,  1.0548e+00,  1.1345e-01, -5.8121e-01,  6.4423e-01,\n",
            "           2.6335e+00,  1.5901e-01],\n",
            "         [ 3.4584e-01,  1.2991e-01,  1.1172e+00,  7.2936e-01, -1.2600e+00,\n",
            "           1.0088e+00, -3.0059e-01],\n",
            "         [-5.9746e-01, -7.0975e-01, -7.7190e-01, -3.4969e-01, -1.9482e+00,\n",
            "          -8.4957e-01, -7.6728e-01],\n",
            "         [ 1.4096e+00, -4.2687e-01, -2.2348e-01,  7.8227e-01,  1.4796e-01,\n",
            "           1.2096e+00,  5.1147e-01],\n",
            "         [-3.1375e-01, -3.0796e+00,  5.7211e-01, -8.0641e-01, -8.7502e-01,\n",
            "          -4.1641e-01,  2.9181e+00]],\n",
            "\n",
            "        [[ 1.8393e+00,  3.3689e-01,  1.8546e+00, -1.3330e+00, -4.8440e-03,\n",
            "           1.3374e+00,  3.0335e-01],\n",
            "         [ 1.5957e+00,  6.9081e-01,  9.3666e-01, -1.0504e+00, -3.0475e-01,\n",
            "          -1.1349e+00, -6.7325e-01],\n",
            "         [-4.0736e-01,  1.4734e+00, -7.2463e-01, -4.6604e-01,  1.0196e-01,\n",
            "           6.1994e-01, -4.4196e-01],\n",
            "         [-1.8774e+00, -1.3025e-03,  7.5971e-01,  3.2382e-01, -6.0472e-01,\n",
            "           3.6398e-01, -5.6143e-01],\n",
            "         [ 3.8271e-01,  2.3044e+00,  9.3370e-01, -1.0057e+00, -4.6539e-01,\n",
            "          -4.1052e-01, -1.2292e+00],\n",
            "         [ 9.3991e-01, -9.9824e-02,  4.9459e-01,  6.8532e-01, -1.2707e+00,\n",
            "          -2.2550e+00, -1.5819e+00]]])\n"
          ]
        }
      ]
    },
    {
      "cell_type": "code",
      "source": [
        "'''\n",
        "Uso de ones_like y randn en GPU:\n",
        "Crea un tensor en la GPU con las mismas dimensiones que otro tensor aleatorio creado con torch.randn.\n",
        "Realiza alguna operación entre los dos tensores y muestra el resultado.\n",
        "'''\n",
        "\n",
        "import torch # importamos Pytorch\n",
        "\n",
        "tensor = torch.randn(3,3, device=device) # creacion de tensor en la gpu\n",
        "print(tensor)\n",
        "\n",
        "suma = 0\n",
        "for n in tensor:\n",
        "  suma+=n\n",
        "\n",
        "print(\"Suma de tensor\")\n",
        "print(suma)"
      ],
      "metadata": {
        "colab": {
          "base_uri": "https://localhost:8080/"
        },
        "id": "4JsrcktojAfn",
        "outputId": "4cc9fb9a-f686-414a-b32b-1bc6939be0ea"
      },
      "execution_count": 24,
      "outputs": [
        {
          "output_type": "stream",
          "name": "stdout",
          "text": [
            "tensor([[-0.9821,  0.1474,  0.3054],\n",
            "        [ 0.0715,  1.4168,  1.6322],\n",
            "        [-0.8570, -0.4359, -0.5777]], device='cuda:0')\n",
            "Suma de tensor\n",
            "tensor([-1.7676,  1.1283,  1.3600], device='cuda:0')\n"
          ]
        }
      ]
    }
  ]
}