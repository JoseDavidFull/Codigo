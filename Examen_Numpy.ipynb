{
  "nbformat": 4,
  "nbformat_minor": 0,
  "metadata": {
    "colab": {
      "provenance": [],
      "gpuType": "T4",
      "authorship_tag": "ABX9TyOOkY1OtXjoBp7dV86wQJx6",
      "include_colab_link": true
    },
    "kernelspec": {
      "name": "python3",
      "display_name": "Python 3"
    },
    "language_info": {
      "name": "python"
    },
    "accelerator": "GPU"
  },
  "cells": [
    {
      "cell_type": "markdown",
      "metadata": {
        "id": "view-in-github",
        "colab_type": "text"
      },
      "source": [
        "<a href=\"https://colab.research.google.com/github/JoseDavidFull/Codigo/blob/main/Examen_Numpy.ipynb\" target=\"_parent\"><img src=\"https://colab.research.google.com/assets/colab-badge.svg\" alt=\"Open In Colab\"/></a>"
      ]
    },
    {
      "cell_type": "code",
      "source": [
        "'''\n",
        "Reshape y Arange:\n",
        "Enunciado: Crea una matriz 1D con números enteros en un rango de 1 a 10.\n",
        "Luego, utiliza reshape para convertirla en una matriz 2D de 2 filas y 5 columnas.\n",
        "'''\n",
        "#Ejercicio1\n",
        "import numpy as np\n",
        "\n",
        "matriz1D = np.arange(1,11).reshape(2,5)\n",
        "print(matriz1D)\n"
      ],
      "metadata": {
        "colab": {
          "base_uri": "https://localhost:8080/"
        },
        "id": "6nMhZjqDkCpp",
        "outputId": "fe05f603-0410-41e5-e0b6-909bf94f74fc"
      },
      "execution_count": 25,
      "outputs": [
        {
          "output_type": "stream",
          "name": "stdout",
          "text": [
            "[[ 1  2  3  4  5]\n",
            " [ 6  7  8  9 10]]\n"
          ]
        }
      ]
    },
    {
      "cell_type": "code",
      "source": [
        "'''\n",
        "Size y Random.rand:\n",
        "Enunciado: Genera una matriz aleatoria de tamaño 3x4 con números decimales entre\n",
        "0 y 1. Calcula la suma de todos los elementos de la matriz.\n",
        "'''\n",
        "#Ejercicio Num2\n",
        "\n",
        "import numpy as np\n",
        "matriz = np.random.randn(3,4)\n",
        "print(matriz)\n",
        "\n",
        "matriz.size"
      ],
      "metadata": {
        "colab": {
          "base_uri": "https://localhost:8080/"
        },
        "id": "jDTdIjTRlL6V",
        "outputId": "c5605b65-f5f5-49f4-9d0e-0305a8d58a4f"
      },
      "execution_count": 38,
      "outputs": [
        {
          "output_type": "stream",
          "name": "stdout",
          "text": [
            "[[ 0.84598156  0.20085819 -0.40218756  1.84168939]\n",
            " [-0.43659502  1.20715961 -0.35545087 -1.16025134]\n",
            " [ 0.59420609 -0.70882818  1.45066709  0.56720179]]\n"
          ]
        },
        {
          "output_type": "execute_result",
          "data": {
            "text/plain": [
              "12"
            ]
          },
          "metadata": {},
          "execution_count": 38
        }
      ]
    },
    {
      "cell_type": "code",
      "source": [
        "'''\n",
        "Axis y Mean:\n",
        "Enunciado: Crea una matriz 2D con números enteros y calcula\n",
        "la media de cada columna (axis=0) y cada fila (axis=1).\n",
        "Comprueba si el resultado es una matriz 1D.\n",
        "'''\n",
        "#Ejercicio Num3\n",
        "import numpy as np # importamos numpy\n",
        "\n",
        "matriz2D = np.random.randint(0,25,(5,5))\n",
        "print(matriz2D)\n",
        "\n",
        "matriz2D.mean(axis=0)\n",
        "print(\"\\n\")\n",
        "matriz2D.mean(axis=1)"
      ],
      "metadata": {
        "colab": {
          "base_uri": "https://localhost:8080/"
        },
        "id": "prguu-BFmQIS",
        "outputId": "26afd465-45f0-4959-9ec6-47ee8c79ceb8"
      },
      "execution_count": 47,
      "outputs": [
        {
          "output_type": "stream",
          "name": "stdout",
          "text": [
            "[[17  9 12 23 15]\n",
            " [17 11  4 21  1]\n",
            " [ 1  2  3 15 22]\n",
            " [16  7  1 18 13]\n",
            " [ 8 21 20 20 19]]\n",
            "\n",
            "\n"
          ]
        },
        {
          "output_type": "execute_result",
          "data": {
            "text/plain": [
              "array([15.2, 10.8,  8.6, 11. , 17.6])"
            ]
          },
          "metadata": {},
          "execution_count": 47
        }
      ]
    },
    {
      "cell_type": "code",
      "source": [
        "'''\n",
        "Random.randint y PTP:\n",
        "Enunciado: Genera una matriz 3x3 de números enteros aleatorios en el rango de\n",
        "1 a 20. Calcula la diferencia entre el valor máximo y mínimo de la matriz utilizando ptp.\n",
        "'''\n",
        "#Ejercicio Num4\n",
        "import numpy as np\n",
        "\n",
        "matriz = np.random.randint(1,21,(3,3))\n",
        "print(matriz)\n",
        "matriz.ptp()"
      ],
      "metadata": {
        "colab": {
          "base_uri": "https://localhost:8080/"
        },
        "id": "XtIAcpc5nKZ2",
        "outputId": "786b915e-e582-4d5d-d163-be37e367363e"
      },
      "execution_count": 50,
      "outputs": [
        {
          "output_type": "stream",
          "name": "stdout",
          "text": [
            "[[17  5  5]\n",
            " [17 18  6]\n",
            " [ 7  9  5]]\n"
          ]
        },
        {
          "output_type": "execute_result",
          "data": {
            "text/plain": [
              "13"
            ]
          },
          "metadata": {},
          "execution_count": 50
        }
      ]
    },
    {
      "cell_type": "code",
      "source": [
        "'''\n",
        "Shape y Ones:\n",
        "Enunciado: Crea una matriz 2D de tamaño 4x6 con números enteros.\n",
        "Luego, utiliza la función ones para crear una matriz del mismo\n",
        "tamaño, pero con todos los elementos establecidos en 1. Realiza\n",
        "la suma elemento por elemento de las dos matrices.\n",
        "'''\n",
        "#Ejercicio Num5\n",
        "\n",
        "import numpy as np\n",
        "\n",
        "matriz2D = np.random.randint(1,25,(4,6))\n",
        "on = np.ones_like(matriz2D)\n",
        "\n",
        "suma = 0\n",
        "\n",
        "for n in on:\n",
        "  suma+=n\n",
        "print(suma)\n"
      ],
      "metadata": {
        "colab": {
          "base_uri": "https://localhost:8080/"
        },
        "id": "vobr9BA0nqfo",
        "outputId": "80a5b2fa-337f-44ec-c841-b1022dddb2c8"
      },
      "execution_count": 57,
      "outputs": [
        {
          "output_type": "stream",
          "name": "stdout",
          "text": [
            "[4 4 4 4 4 4]\n"
          ]
        }
      ]
    }
  ]
}