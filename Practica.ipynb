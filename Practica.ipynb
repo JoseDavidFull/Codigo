{
  "nbformat": 4,
  "nbformat_minor": 0,
  "metadata": {
    "colab": {
      "provenance": [],
      "authorship_tag": "ABX9TyPtFRA1Dohl8px5nKZcUMm/",
      "include_colab_link": true
    },
    "kernelspec": {
      "name": "python3",
      "display_name": "Python 3"
    },
    "language_info": {
      "name": "python"
    }
  },
  "cells": [
    {
      "cell_type": "markdown",
      "metadata": {
        "id": "view-in-github",
        "colab_type": "text"
      },
      "source": [
        "<a href=\"https://colab.research.google.com/github/JoseDavidFull/Codigo/blob/main/Practica.ipynb\" target=\"_parent\"><img src=\"https://colab.research.google.com/assets/colab-badge.svg\" alt=\"Open In Colab\"/></a>"
      ]
    },
    {
      "cell_type": "code",
      "execution_count": 1,
      "metadata": {
        "id": "HD1NIxnRnxbR"
      },
      "outputs": [],
      "source": [
        "import torch"
      ]
    },
    {
      "cell_type": "code",
      "source": [
        "#Crear un tensor de tamaño (3, 4, 5) con números aleatorios flotantes:\n",
        "tensor = torch.randn((3,4,5))\n",
        "print(tensor)"
      ],
      "metadata": {
        "colab": {
          "base_uri": "https://localhost:8080/"
        },
        "id": "FThPIL6mopLt",
        "outputId": "1787a2be-ca95-48a6-b6c9-61b29045dfe5"
      },
      "execution_count": 5,
      "outputs": [
        {
          "output_type": "stream",
          "name": "stdout",
          "text": [
            "tensor([[[-0.3499, -1.3163, -1.2962,  0.9325, -0.9978],\n",
            "         [-0.2541,  0.6116, -1.6408,  0.4318,  1.0171],\n",
            "         [-1.7134,  0.7337,  1.2181,  1.4187,  0.6432],\n",
            "         [-0.1701,  2.0069,  0.5256,  1.5571, -0.0174]],\n",
            "\n",
            "        [[-1.5224, -0.3359,  0.7318, -1.2434,  0.3631],\n",
            "         [ 0.0220, -0.5996,  0.9841,  0.6007,  0.7241],\n",
            "         [-0.1777, -0.6072, -2.0765,  1.7465, -0.9469],\n",
            "         [ 0.4679, -0.3295, -0.2196, -1.8271,  0.1627]],\n",
            "\n",
            "        [[-0.0830,  0.8337,  2.1616,  1.5119,  1.0598],\n",
            "         [ 1.3821, -0.7313,  0.1727,  1.0732, -1.0316],\n",
            "         [-0.8251,  1.5390,  0.0220,  0.1731,  1.1970],\n",
            "         [ 0.6961,  0.1866, -0.6179, -1.2292, -0.9259]]])\n"
          ]
        }
      ]
    },
    {
      "cell_type": "code",
      "source": [
        "#Obtener la dimensión del tensor creado en el ejercicio 1:\n",
        "tensor.size()"
      ],
      "metadata": {
        "id": "iOcc5HJeo2MY"
      },
      "execution_count": null,
      "outputs": []
    },
    {
      "cell_type": "code",
      "source": [
        "#Acceder al elemento en la posición (0, 0, 0) del tensor creado en el ejercicio 1:\n",
        "tensor[0,0,0]"
      ],
      "metadata": {
        "id": "APrPX9VApBBd"
      },
      "execution_count": null,
      "outputs": []
    },
    {
      "cell_type": "code",
      "source": [
        "#Crear un tensor de tamaño (2, 3, 4) con todos los elementos iguales a cero:\n",
        "\n",
        "tensor2 = torch.zeros((2,3,4))\n",
        "print(tensor2)"
      ],
      "metadata": {
        "id": "Kq70TPHNpq_S"
      },
      "execution_count": null,
      "outputs": []
    },
    {
      "cell_type": "code",
      "source": [
        "#Calcular la media y la desviación estándar de un tensor de tamaño (5, 5):\n",
        "\n",
        "tensor3 = torch.randn((5,5))\n",
        "print(tensor3)\n",
        "print(\"Mediana\")\n",
        "media = torch.median(tensor3)\n",
        "print(media)\n",
        "print(\"Desviacion Estandar\")\n",
        "desviacion = torch.std(tensor3)\n",
        "print(desviacion)"
      ],
      "metadata": {
        "id": "vzt59YCjq0_L"
      },
      "execution_count": null,
      "outputs": []
    },
    {
      "cell_type": "code",
      "source": [
        "#Crear un tensor de tamaño (3, 3) con valores enteros aleatorios entre 1 y 10, y luego realizar la operación de exponenciación en todos los elementos:\n",
        "import torch\n",
        "\n",
        "tensor = torch.randint(1,11,(3,3))\n",
        "exponente = torch.pow(tensor, 2)\n",
        "print(exponente)"
      ],
      "metadata": {
        "id": "_knrmiX3r-zr"
      },
      "execution_count": null,
      "outputs": []
    },
    {
      "cell_type": "code",
      "source": [],
      "metadata": {
        "id": "RgJ25Xmrsn6b"
      },
      "execution_count": null,
      "outputs": []
    }
  ]
}